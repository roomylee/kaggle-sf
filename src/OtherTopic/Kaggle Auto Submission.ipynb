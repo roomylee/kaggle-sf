{
 "cells": [
  {
   "cell_type": "markdown",
   "metadata": {},
   "source": [
    "KAS (Kaggle Auto Submission)\n",
    "==="
   ]
  },
  {
   "cell_type": "markdown",
   "metadata": {},
   "source": [
    "### Author\n",
    "- Debugging Sparrow / dbgsprw@gmail.com\n",
    "- jangjunha / jangjunha113@gmail.com"
   ]
  },
  {
   "cell_type": "markdown",
   "metadata": {},
   "source": [
    "### Requirements\n",
    "- requests\n",
    "- beautifulsoup4"
   ]
  },
  {
   "cell_type": "code",
   "execution_count": 95,
   "metadata": {
    "collapsed": true
   },
   "outputs": [],
   "source": [
    "from bs4 import BeautifulSoup\n",
    "from zipfile import ZipFile\n",
    "import requests\n",
    "\n",
    "\n",
    "session = requests.Session()    \n",
    "competition_name = ''\n",
    "\n",
    "\n",
    "def init(user_email, password, _competition_name):\n",
    "    global competition_name\n",
    "    \n",
    "    URL = \"https://www.kaggle.com/account/login\"\n",
    "    login_data = {\n",
    "        'UserName': user_email,\n",
    "        'Password': password,\n",
    "        'JavaScriptEnabled' : True\n",
    "    }\n",
    "    competition_name = _competition_name\n",
    "    r = session.post(URL, data=login_data)\n",
    "    \n",
    "    test_URL = 'https://www.kaggle.com/c/%s/submissions/attach' % competition_name\n",
    "    \n",
    "    r = session.get(test_URL)\n",
    "    if r.url == test_URL :\n",
    "        print('Login Succeed')\n",
    "        return True\n",
    "    print('Login Failed')\n",
    "    return False\n",
    "\n",
    "\n",
    "#@filename = file_path\n",
    "#@compress = True or False for compressing to .zip\n",
    "def submission(csv_filename, compress):\n",
    "    global competition_name\n",
    "    \n",
    "    filename = csv_filename\n",
    "    if compress == True :\n",
    "        with ZipFile(csv_filename, 'w') as myzip:\n",
    "            filename = csv_filename + \".zip\"\n",
    "            myzip.write(filename)\n",
    "    \n",
    "    r_pre = session.get('https://www.kaggle.com/c/%s/submissions/attach' % competition_name)\n",
    "    soup = BeautifulSoup(r_pre.content, 'html.parser')\n",
    "    token = soup.find('input', {'name': '__RequestVerificationToken'})['value']\n",
    "    competition_id = soup.find('input', {'name': 'CompetitionId'})['value']\n",
    "    \n",
    "    payload = {\n",
    "        'CompetitionId': competition_id,\n",
    "        '__RequestVerificationToken': token,\n",
    "        'IsScriptVersionSubmission': 'False',\n",
    "        'SubmissionDescription': 'This-is-description!'\n",
    "    }\n",
    "    files = {\n",
    "        'SubmissionUpload': open(filename, 'rb')\n",
    "    }\n",
    "    \n",
    "    r = session.post('https://www.kaggle.com/competitions/submissions/accept', data=payload, files=files)\n",
    "    if r.status_code == 200:\n",
    "        print(\"Submission Succeed\")\n",
    "        return True\n",
    "    print(\"Submission Failed\")\n",
    "    return False"
   ]
  },
  {
   "cell_type": "markdown",
   "metadata": {},
   "source": [
    "## Use-case"
   ]
  },
  {
   "cell_type": "markdown",
   "metadata": {},
   "source": [
    "### Login"
   ]
  },
  {
   "cell_type": "code",
   "execution_count": 96,
   "metadata": {
    "collapsed": false
   },
   "outputs": [
    {
     "name": "stdout",
     "output_type": "stream",
     "text": [
      "Login Succeed\n"
     ]
    }
   ],
   "source": [
    "email='your_email@email.com'\n",
    "password='your_password'\n",
    "\n",
    "init(email, password, 'sf-crime')"
   ]
  },
  {
   "cell_type": "markdown",
   "metadata": {},
   "source": [
    "### Submission"
   ]
  },
  {
   "cell_type": "code",
   "execution_count": 97,
   "metadata": {
    "collapsed": false
   },
   "outputs": [
    {
     "name": "stdout",
     "output_type": "stream",
     "text": [
      "Submission Succeed\n"
     ]
    }
   ],
   "source": [
    "r = submission(\"sampleSubmission.csv\", True)"
   ]
  }
 ],
 "metadata": {
  "kernelspec": {
   "display_name": "Python 3",
   "language": "python",
   "name": "python3"
  },
  "language_info": {
   "codemirror_mode": {
    "name": "ipython",
    "version": 3
   },
   "file_extension": ".py",
   "mimetype": "text/x-python",
   "name": "python",
   "nbconvert_exporter": "python",
   "pygments_lexer": "ipython3",
   "version": "3.5.2"
  }
 },
 "nbformat": 4,
 "nbformat_minor": 0
}
