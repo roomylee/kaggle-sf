{
 "cells": [
  {
   "cell_type": "markdown",
   "metadata": {},
   "source": [
    "# Baseline script of San Francisco Crime Classification"
   ]
  },
  {
   "cell_type": "markdown",
   "metadata": {},
   "source": [
    "## Goal\n",
    "  * Make baseline script. Hope to help all mentees."
   ]
  },
  {
   "cell_type": "code",
   "execution_count": 1,
   "metadata": {
    "collapsed": true
   },
   "outputs": [],
   "source": [
    "import numpy as np\n",
    "import pandas as pd"
   ]
  },
  {
   "cell_type": "markdown",
   "metadata": {},
   "source": [
    "## Load Data"
   ]
  },
  {
   "cell_type": "code",
   "execution_count": 2,
   "metadata": {
    "collapsed": false
   },
   "outputs": [
    {
     "data": {
      "text/html": [
       "<div>\n",
       "<table border=\"1\" class=\"dataframe\">\n",
       "  <thead>\n",
       "    <tr style=\"text-align: right;\">\n",
       "      <th></th>\n",
       "      <th>Category</th>\n",
       "      <th>DayOfWeek</th>\n",
       "      <th>PdDistrict</th>\n",
       "      <th>Address</th>\n",
       "      <th>X</th>\n",
       "      <th>Y</th>\n",
       "    </tr>\n",
       "  </thead>\n",
       "  <tbody>\n",
       "    <tr>\n",
       "      <th>0</th>\n",
       "      <td>WARRANTS</td>\n",
       "      <td>Wednesday</td>\n",
       "      <td>NORTHERN</td>\n",
       "      <td>OAK ST / LAGUNA ST</td>\n",
       "      <td>-122.425892</td>\n",
       "      <td>37.774599</td>\n",
       "    </tr>\n",
       "    <tr>\n",
       "      <th>1</th>\n",
       "      <td>OTHER OFFENSES</td>\n",
       "      <td>Wednesday</td>\n",
       "      <td>NORTHERN</td>\n",
       "      <td>OAK ST / LAGUNA ST</td>\n",
       "      <td>-122.425892</td>\n",
       "      <td>37.774599</td>\n",
       "    </tr>\n",
       "    <tr>\n",
       "      <th>2</th>\n",
       "      <td>OTHER OFFENSES</td>\n",
       "      <td>Wednesday</td>\n",
       "      <td>NORTHERN</td>\n",
       "      <td>VANNESS AV / GREENWICH ST</td>\n",
       "      <td>-122.424363</td>\n",
       "      <td>37.800414</td>\n",
       "    </tr>\n",
       "  </tbody>\n",
       "</table>\n",
       "</div>"
      ],
      "text/plain": [
       "         Category  DayOfWeek PdDistrict                    Address  \\\n",
       "0        WARRANTS  Wednesday   NORTHERN         OAK ST / LAGUNA ST   \n",
       "1  OTHER OFFENSES  Wednesday   NORTHERN         OAK ST / LAGUNA ST   \n",
       "2  OTHER OFFENSES  Wednesday   NORTHERN  VANNESS AV / GREENWICH ST   \n",
       "\n",
       "            X          Y  \n",
       "0 -122.425892  37.774599  \n",
       "1 -122.425892  37.774599  \n",
       "2 -122.424363  37.800414  "
      ]
     },
     "execution_count": 2,
     "metadata": {},
     "output_type": "execute_result"
    }
   ],
   "source": [
    "train = pd.read_csv(\"../data/train.csv\")\n",
    "train = train.drop(['Dates', 'Descript', 'Resolution'], axis=1)\n",
    "train.head(3)"
   ]
  },
  {
   "cell_type": "code",
   "execution_count": 3,
   "metadata": {
    "collapsed": false
   },
   "outputs": [
    {
     "data": {
      "text/html": [
       "<div>\n",
       "<table border=\"1\" class=\"dataframe\">\n",
       "  <thead>\n",
       "    <tr style=\"text-align: right;\">\n",
       "      <th></th>\n",
       "      <th>Id</th>\n",
       "      <th>Dates</th>\n",
       "      <th>DayOfWeek</th>\n",
       "      <th>PdDistrict</th>\n",
       "      <th>Address</th>\n",
       "      <th>X</th>\n",
       "      <th>Y</th>\n",
       "    </tr>\n",
       "  </thead>\n",
       "  <tbody>\n",
       "    <tr>\n",
       "      <th>0</th>\n",
       "      <td>0</td>\n",
       "      <td>2015-05-10 23:59:00</td>\n",
       "      <td>Sunday</td>\n",
       "      <td>BAYVIEW</td>\n",
       "      <td>2000 Block of THOMAS AV</td>\n",
       "      <td>-122.399588</td>\n",
       "      <td>37.735051</td>\n",
       "    </tr>\n",
       "    <tr>\n",
       "      <th>1</th>\n",
       "      <td>1</td>\n",
       "      <td>2015-05-10 23:51:00</td>\n",
       "      <td>Sunday</td>\n",
       "      <td>BAYVIEW</td>\n",
       "      <td>3RD ST / REVERE AV</td>\n",
       "      <td>-122.391523</td>\n",
       "      <td>37.732432</td>\n",
       "    </tr>\n",
       "    <tr>\n",
       "      <th>2</th>\n",
       "      <td>2</td>\n",
       "      <td>2015-05-10 23:50:00</td>\n",
       "      <td>Sunday</td>\n",
       "      <td>NORTHERN</td>\n",
       "      <td>2000 Block of GOUGH ST</td>\n",
       "      <td>-122.426002</td>\n",
       "      <td>37.792212</td>\n",
       "    </tr>\n",
       "  </tbody>\n",
       "</table>\n",
       "</div>"
      ],
      "text/plain": [
       "   Id                Dates DayOfWeek PdDistrict                  Address  \\\n",
       "0   0  2015-05-10 23:59:00    Sunday    BAYVIEW  2000 Block of THOMAS AV   \n",
       "1   1  2015-05-10 23:51:00    Sunday    BAYVIEW       3RD ST / REVERE AV   \n",
       "2   2  2015-05-10 23:50:00    Sunday   NORTHERN   2000 Block of GOUGH ST   \n",
       "\n",
       "            X          Y  \n",
       "0 -122.399588  37.735051  \n",
       "1 -122.391523  37.732432  \n",
       "2 -122.426002  37.792212  "
      ]
     },
     "execution_count": 3,
     "metadata": {},
     "output_type": "execute_result"
    }
   ],
   "source": [
    "test = pd.read_csv(\"../data/test.csv\")\n",
    "test.head(3)"
   ]
  },
  {
   "cell_type": "markdown",
   "metadata": {},
   "source": [
    "## Matching Sanfran Hot Place\n",
    " - PIER 39 : (37.808690, -122.409831)\n",
    " - Golden Gate Park : (37.968462, -122.480034)\n",
    " - Union square : (37.787951, -122.407541)\n",
    " - Golden Gate Bridge : (37.808978, -122.475337)"
   ]
  },
  {
   "cell_type": "code",
   "execution_count": 4,
   "metadata": {
    "collapsed": false
   },
   "outputs": [],
   "source": [
    "hot_place = {'pier': {'x': -122.409831, 'y': 37.808690},\n",
    "             'park': {'x': -122.480034, 'y': 37.968462}, \n",
    "             'union': {'x': -122.407541, 'y': 37.787951},\n",
    "             'bridge': {'x': -122.475337, 'y': 37.808978}\n",
    "            }"
   ]
  },
  {
   "cell_type": "code",
   "execution_count": 5,
   "metadata": {
    "collapsed": false
   },
   "outputs": [
    {
     "data": {
      "text/plain": [
       "-122.409831"
      ]
     },
     "execution_count": 5,
     "metadata": {},
     "output_type": "execute_result"
    }
   ],
   "source": [
    "hot_place['pier'].get('x')"
   ]
  },
  {
   "cell_type": "code",
   "execution_count": 6,
   "metadata": {
    "collapsed": true
   },
   "outputs": [],
   "source": [
    "# man_dist = ((dest.x - curr.x) + (dest.y - curr.y)) \n",
    "\n",
    "def getManhattan(xList, yList):\n",
    "    return abs(xList[0]-xList[1]) + abs(yList[0]-yList[1])"
   ]
  },
  {
   "cell_type": "markdown",
   "metadata": {},
   "source": [
    "## Feature Engineering\n",
    "- 각 거리를 계산하여 4개의 feature를 생성\n",
    "- 소수점 자리가 너무 낮은 관계로 100을 곱함"
   ]
  },
  {
   "cell_type": "code",
   "execution_count": 7,
   "metadata": {
    "collapsed": false
   },
   "outputs": [],
   "source": [
    "xList = []\n",
    "yList = []"
   ]
  },
  {
   "cell_type": "code",
   "execution_count": 8,
   "metadata": {
    "collapsed": false
   },
   "outputs": [
    {
     "data": {
      "text/html": [
       "<div>\n",
       "<table border=\"1\" class=\"dataframe\">\n",
       "  <thead>\n",
       "    <tr style=\"text-align: right;\">\n",
       "      <th></th>\n",
       "      <th>Category</th>\n",
       "      <th>DayOfWeek</th>\n",
       "      <th>PdDistrict</th>\n",
       "      <th>Address</th>\n",
       "      <th>X</th>\n",
       "      <th>Y</th>\n",
       "      <th>PierCalc</th>\n",
       "      <th>ParkCalc</th>\n",
       "      <th>UnionCalc</th>\n",
       "      <th>BridgeCalc</th>\n",
       "    </tr>\n",
       "  </thead>\n",
       "  <tbody>\n",
       "    <tr>\n",
       "      <th>0</th>\n",
       "      <td>WARRANTS</td>\n",
       "      <td>Wednesday</td>\n",
       "      <td>NORTHERN</td>\n",
       "      <td>OAK ST / LAGUNA ST</td>\n",
       "      <td>-122.425892</td>\n",
       "      <td>37.774599</td>\n",
       "      <td>5.015208</td>\n",
       "      <td>24.800573</td>\n",
       "      <td>3.170308</td>\n",
       "      <td>8.382473</td>\n",
       "    </tr>\n",
       "    <tr>\n",
       "      <th>1</th>\n",
       "      <td>OTHER OFFENSES</td>\n",
       "      <td>Wednesday</td>\n",
       "      <td>NORTHERN</td>\n",
       "      <td>OAK ST / LAGUNA ST</td>\n",
       "      <td>-122.425892</td>\n",
       "      <td>37.774599</td>\n",
       "      <td>5.015208</td>\n",
       "      <td>24.800573</td>\n",
       "      <td>3.170308</td>\n",
       "      <td>8.382473</td>\n",
       "    </tr>\n",
       "    <tr>\n",
       "      <th>2</th>\n",
       "      <td>OTHER OFFENSES</td>\n",
       "      <td>Wednesday</td>\n",
       "      <td>NORTHERN</td>\n",
       "      <td>VANNESS AV / GREENWICH ST</td>\n",
       "      <td>-122.424363</td>\n",
       "      <td>37.800414</td>\n",
       "      <td>2.280770</td>\n",
       "      <td>22.371866</td>\n",
       "      <td>2.928534</td>\n",
       "      <td>5.953766</td>\n",
       "    </tr>\n",
       "  </tbody>\n",
       "</table>\n",
       "</div>"
      ],
      "text/plain": [
       "         Category  DayOfWeek PdDistrict                    Address  \\\n",
       "0        WARRANTS  Wednesday   NORTHERN         OAK ST / LAGUNA ST   \n",
       "1  OTHER OFFENSES  Wednesday   NORTHERN         OAK ST / LAGUNA ST   \n",
       "2  OTHER OFFENSES  Wednesday   NORTHERN  VANNESS AV / GREENWICH ST   \n",
       "\n",
       "            X          Y  PierCalc   ParkCalc  UnionCalc  BridgeCalc  \n",
       "0 -122.425892  37.774599  5.015208  24.800573   3.170308    8.382473  \n",
       "1 -122.425892  37.774599  5.015208  24.800573   3.170308    8.382473  \n",
       "2 -122.424363  37.800414  2.280770  22.371866   2.928534    5.953766  "
      ]
     },
     "execution_count": 8,
     "metadata": {},
     "output_type": "execute_result"
    }
   ],
   "source": [
    "train['PierCalcX'] = train['X'].map(lambda x: abs(hot_place['pier'].get('x') - x))\n",
    "train['PierCalcY'] = train['Y'].map(lambda y: abs(hot_place['pier'].get('y') - y))\n",
    "train['PierCalc'] = (train['PierCalcX'] + train['PierCalcY']) * 100\n",
    "\n",
    "train['ParkCalcX'] = train['X'].map(lambda x: abs(hot_place['park'].get('x') - x))\n",
    "train['ParkCalcY'] = train['Y'].map(lambda y: abs(hot_place['park'].get('y') - y))\n",
    "train['ParkCalc'] = (train['ParkCalcX'] + train['ParkCalcY']) * 100\n",
    "\n",
    "train['UnionCalcX'] = train['X'].map(lambda x: abs(hot_place['union'].get('x') - x))\n",
    "train['UnionCalcY'] = train['Y'].map(lambda y: abs(hot_place['union'].get('y') - y))\n",
    "train['UnionCalc'] = (train['UnionCalcX'] + train['UnionCalcY']) * 100\n",
    "\n",
    "train['BridgeCalcX'] = train['X'].map(lambda x: abs(hot_place['bridge'].get('x') - x))\n",
    "train['BridgeCalcY'] = train['Y'].map(lambda y: abs(hot_place['bridge'].get('y') - y))\n",
    "train['BridgeCalc'] = (train['BridgeCalcX'] + train['BridgeCalcY']) * 100\n",
    "\n",
    "train = train.drop(['PierCalcX', 'PierCalcY', 'ParkCalcX', 'ParkCalcY', 'UnionCalcX', 'UnionCalcY', 'BridgeCalcX', 'BridgeCalcY'], axis=1)\n",
    "train.head(3)"
   ]
  },
  {
   "cell_type": "markdown",
   "metadata": {},
   "source": [
    "## Prediction"
   ]
  },
  {
   "cell_type": "code",
   "execution_count": 11,
   "metadata": {
    "collapsed": false
   },
   "outputs": [],
   "source": [
    "from sklearn.cross_validation import cross_val_score\n",
    "\n",
    "feature_names = [\"X\", \"Y\", \"PierCalc\", \"ParkCalc\", \"UnionCalc\", \"BridgeCalc\"]\n",
    "label_name = \"Category\"\n",
    "\n",
    "train_X = train[feature_names]\n",
    "train_y = train[label_name]"
   ]
  },
  {
   "cell_type": "markdown",
   "metadata": {},
   "source": [
    "### Scoring"
   ]
  },
  {
   "cell_type": "code",
   "execution_count": 12,
   "metadata": {
    "collapsed": false
   },
   "outputs": [
    {
     "name": "stdout",
     "output_type": "stream",
     "text": [
      "GaussianNB = 10.799314\n",
      "BernoulliNB = 2.680330\n"
     ]
    }
   ],
   "source": [
    "from sklearn.naive_bayes import GaussianNB, MultinomialNB, BernoulliNB\n",
    "\n",
    "gaussian_score = cross_val_score(GaussianNB(), train_X, train_y, scoring='log_loss', cv=5).mean()\n",
    "bernoulli_score = cross_val_score(BernoulliNB(), train_X, train_y, scoring='log_loss', cv=5).mean()\n",
    "\n",
    "print(\"GaussianNB = {0:.6f}\".format(-1.0 * gaussian_score))\n",
    "# print(\"MultinomialNB = {0:.6f}\".format(multimonial_score))\n",
    "print(\"BernoulliNB = {0:.6f}\".format(-1.0 * bernoulli_score))"
   ]
  },
  {
   "cell_type": "markdown",
   "metadata": {
    "collapsed": true
   },
   "source": [
    "### Result\n",
    "- baseline : GaussianNB = 3.456489 / BernoulliNB = 2.680326\n",
    "- hotplace : GaussianNB = 8.392301 / BernoulliNB = 2.680327 (+0.000001)\n",
    "- hotplace : GaussianNB = 10.799314 / BernoulliNB = 2.680330 (+0.000004)"
   ]
  }
 ],
 "metadata": {
  "anaconda-cloud": {},
  "kernelspec": {
   "display_name": "Python [Root]",
   "language": "python",
   "name": "Python [Root]"
  },
  "language_info": {
   "codemirror_mode": {
    "name": "ipython",
    "version": 3
   },
   "file_extension": ".py",
   "mimetype": "text/x-python",
   "name": "python",
   "nbconvert_exporter": "python",
   "pygments_lexer": "ipython3",
   "version": "3.5.2"
  }
 },
 "nbformat": 4,
 "nbformat_minor": 0
}
