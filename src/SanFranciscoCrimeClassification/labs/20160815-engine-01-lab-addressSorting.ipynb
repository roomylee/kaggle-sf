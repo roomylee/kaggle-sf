]0;IPython: Kaggle(7th)/kaggle-sf[0;31m---------------------------------------------------------------------------[0m
[0;31mUnknownBackend[0m                            Traceback (most recent call last)
[0;32m/Users/shaynekang/.ipython/profile_default/startup/00-default.ipy[0m in [0;36m<module>[0;34m()[0m
[1;32m      9[0m [0;32mimport[0m [0mmatplotlib[0m[0;34m.[0m[0mpyplot[0m [0;32mas[0m [0mplt[0m[0;34m[0m[0m
[1;32m     10[0m [0;34m[0m[0m
[0;32m---> 11[0;31m [0mget_ipython[0m[0;34m([0m[0;34m)[0m[0;34m.[0m[0mmagic[0m[0;34m([0m[0;34m'matplotlib inline'[0m[0;34m)[0m[0;34m[0m[0m
[0m
[0;32m/Users/shaynekang/.pyenv/versions/3.5.1/lib/python3.5/site-packages/IPython/core/interactiveshell.py[0m in [0;36mmagic[0;34m(self, arg_s)[0m
[1;32m   2144[0m         [0mmagic_name[0m[0;34m,[0m [0m_[0m[0;34m,[0m [0mmagic_arg_s[0m [0;34m=[0m [0marg_s[0m[0;34m.[0m[0mpartition[0m[0;34m([0m[0;34m' '[0m[0;34m)[0m[0;34m[0m[0m
[1;32m   2145[0m         [0mmagic_name[0m [0;34m=[0m [0mmagic_name[0m[0;34m.[0m[0mlstrip[0m[0;34m([0m[0mprefilter[0m[0;34m.[0m[0mESC_MAGIC[0m[0;34m)[0m[0;34m[0m[0m
[0;32m-> 2146[0;31m         [0;32mreturn[0m [0mself[0m[0;34m.[0m[0mrun_line_magic[0m[0;34m([0m[0mmagic_name[0m[0;34m,[0m [0mmagic_arg_s[0m[0;34m)[0m[0;34m[0m[0m
[0m[1;32m   2147[0m [0;34m[0m[0m
[1;32m   2148[0m     [0;31m#-------------------------------------------------------------------------[0m[0;34m[0m[0;34m[0m[0m

[0;32m/Users/shaynekang/.pyenv/versions/3.5.1/lib/python3.5/site-packages/IPython/core/interactiveshell.py[0m in [0;36mrun_line_magic[0;34m(self, magic_name, line)[0m
[1;32m   2065[0m                 [0mkwargs[0m[0;34m[[0m[0;34m'local_ns'[0m[0;34m][0m [0;34m=[0m [0msys[0m[0;34m.[0m[0m_getframe[0m[0;34m([0m[0mstack_depth[0m[0;34m)[0m[0;34m.[0m[0mf_locals[0m[0;34m[0m[0m
[1;32m   2066[0m             [0;32mwith[0m [0mself[0m[0;34m.[0m[0mbuiltin_trap[0m[0;34m:[0m[0;34m[0m[0m
[0;32m-> 2067[0;31m                 [0mresult[0m [0;34m=[0m [0mfn[0m[0;34m([0m[0;34m*[0m[0margs[0m[0;34m,[0m[0;34m**[0m[0mkwargs[0m[0;34m)[0m[0;34m[0m[0m
[0m[1;32m   2068[0m             [0;32mreturn[0m [0mresult[0m[0;34m[0m[0m
[1;32m   2069[0m [0;34m[0m[0m

[0;32m<decorator-gen-104>[0m in [0;36mmatplotlib[0;34m(self, line)[0m

[0;32m/Users/shaynekang/.pyenv/versions/3.5.1/lib/python3.5/site-packages/IPython/core/magic.py[0m in [0;36m<lambda>[0;34m(f, *a, **k)[0m
[1;32m    186[0m     [0;31m# but it's overkill for just that one bit of state.[0m[0;34m[0m[0;34m[0m[0m
[1;32m    187[0m     [0;32mdef[0m [0mmagic_deco[0m[0;34m([0m[0marg[0m[0;34m)[0m[0;34m:[0m[0;34m[0m[0m
[0;32m--> 188[0;31m         [0mcall[0m [0;34m=[0m [0;32mlambda[0m [0mf[0m[0;34m,[0m [0;34m*[0m[0ma[0m[0;34m,[0m [0;34m**[0m[0mk[0m[0;34m:[0m [0mf[0m[0;34m([0m[0;34m*[0m[0ma[0m[0;34m,[0m [0;34m**[0m[0mk[0m[0;34m)[0m[0;34m[0m[0m
[0m[1;32m    189[0m [0;34m[0m[0m
[1;32m    190[0m         [0;32mif[0m [0mcallable[0m[0;34m([0m[0marg[0m[0;34m)[0m[0;34m:[0m[0;34m[0m[0m

[0;32m/Users/shaynekang/.pyenv/versions/3.5.1/lib/python3.5/site-packages/IPython/core/magics/pylab.py[0m in [0;36mmatplotlib[0;34m(self, line)[0m
[1;32m     98[0m             [0mprint[0m[0;34m([0m[0;34m"Available matplotlib backends: %s"[0m [0;34m%[0m [0mbackends_list[0m[0;34m)[0m[0;34m[0m[0m
[1;32m     99[0m         [0;32melse[0m[0;34m:[0m[0;34m[0m[0m
[0;32m--> 100[0;31m             [0mgui[0m[0;34m,[0m [0mbackend[0m [0;34m=[0m [0mself[0m[0;34m.[0m[0mshell[0m[0;34m.[0m[0menable_matplotlib[0m[0;34m([0m[0margs[0m[0;34m.[0m[0mgui[0m[0;34m)[0m[0;34m[0m[0m
[0m[1;32m    101[0m             [0mself[0m[0;34m.[0m[0m_show_matplotlib_backend[0m[0;34m([0m[0margs[0m[0;34m.[0m[0mgui[0m[0;34m,[0m [0mbackend[0m[0;34m)[0m[0;34m[0m[0m
[1;32m    102[0m [0;34m[0m[0m

[0;32m/Users/shaynekang/.pyenv/versions/3.5.1/lib/python3.5/site-packages/IPython/core/interactiveshell.py[0m in [0;36menable_matplotlib[0;34m(self, gui)[0m
[1;32m   2938[0m         [0;31m# Now we must activate the gui pylab wants to use, and fix %run to take[0m[0;34m[0m[0;34m[0m[0m
[1;32m   2939[0m         [0;31m# plot updates into account[0m[0;34m[0m[0;34m[0m[0m
[0;32m-> 2940[0;31m         [0mself[0m[0;34m.[0m[0menable_gui[0m[0;34m([0m[0mgui[0m[0;34m)[0m[0;34m[0m[0m
[0m[1;32m   2941[0m         [0mself[0m[0;34m.[0m[0mmagics_manager[0m[0;34m.[0m[0mregistry[0m[0;34m[[0m[0;34m'ExecutionMagics'[0m[0;34m][0m[0;34m.[0m[0mdefault_runner[0m [0;34m=[0m[0;31m [0m[0;31m\[0m[0;34m[0m[0m
[1;32m   2942[0m             [0mpt[0m[0;34m.[0m[0mmpl_runner[0m[0;34m([0m[0mself[0m[0;34m.[0m[0msafe_execfile[0m[0;34m)[0m[0;34m[0m[0m

[0;32m/Users/shaynekang/.pyenv/versions/3.5.1/lib/python3.5/site-packages/IPython/terminal/interactiveshell.py[0m in [0;36menable_gui[0;34m(self, gui)[0m
[1;32m    415[0m     [0;32mdef[0m [0menable_gui[0m[0;34m([0m[0mself[0m[0;34m,[0m [0mgui[0m[0;34m=[0m[0;32mNone[0m[0;34m)[0m[0;34m:[0m[0;34m[0m[0m
[1;32m    416[0m         [0;32mif[0m [0mgui[0m[0;34m:[0m[0;34m[0m[0m
[0;32m--> 417[0;31m             [0mself[0m[0;34m.[0m[0m_inputhook[0m [0;34m=[0m [0mget_inputhook_func[0m[0;34m([0m[0mgui[0m[0;34m)[0m[0;34m[0m[0m
[0m[1;32m    418[0m         [0;32melse[0m[0;34m:[0m[0;34m[0m[0m
[1;32m    419[0m             [0mself[0m[0;34m.[0m[0m_inputhook[0m [0;34m=[0m [0;32mNone[0m[0;34m[0m[0m

[0;32m/Users/shaynekang/.pyenv/versions/3.5.1/lib/python3.5/site-packages/IPython/terminal/pt_inputhooks/__init__.py[0m in [0;36mget_inputhook_func[0;34m(gui)[0m
[1;32m     36[0m [0;34m[0m[0m
[1;32m     37[0m     [0;32mif[0m [0mgui[0m [0;32mnot[0m [0;32min[0m [0mbackends[0m[0;34m:[0m[0;34m[0m[0m
[0;32m---> 38[0;31m         [0;32mraise[0m [0mUnknownBackend[0m[0;34m([0m[0mgui[0m[0;34m)[0m[0;34m[0m[0m
[0m[1;32m     39[0m [0;34m[0m[0m
[1;32m     40[0m     [0;32mif[0m [0mgui[0m [0;32min[0m [0maliases[0m[0;34m:[0m[0;34m[0m[0m

[0;31mUnknownBackend[0m: No event loop integration for 'inline'. Supported event loops are: qt, qt4, qt5, gtk, gtk2, gtk3, tk, wx, pyglet, glut, osx
{
 "cells": [
  {
   "cell_type": "markdown",
   "metadata": {},
   "source": [
    "# Baseline script of San Francisco Crime Classification"
   ]
  },
  {
   "cell_type": "markdown",
   "metadata": {},
   "source": [
    "## Goal\n",
    "  * Make baseline script. Hope to help all mentees."
   ]
  },
  {
   "cell_type": "code",
   "execution_count": null,
   "metadata": {
    "collapsed": true
   },
   "outputs": [],
   "source": [
    "import numpy as np\n",
    "import pandas as pd"
   ]
  },
  {
   "cell_type": "markdown",
   "metadata": {},
   "source": [
    "## Load Data"
   ]
  },
  {
   "cell_type": "code",
   "execution_count": null,
   "metadata": {
    "collapsed": false
   },
   "outputs": [],
   "source": [
    "train = pd.read_csv(\"../data/train.csv\")\n",
    "train.head(3)"
   ]
  },
  {
   "cell_type": "code",
   "execution_count": null,
   "metadata": {
    "collapsed": false
   },
   "outputs": [],
   "source": [
    "test = pd.read_csv(\"../data/test.csv\")\n",
    "test.head(3)"
   ]
  },
  {
   "cell_type": "markdown",
   "metadata": {},
   "source": [
    "## Munging"
   ]
  },
  {
   "cell_type": "code",
   "execution_count": null,
   "metadata": {
    "collapsed": false
   },
   "outputs": [],
   "source": [
    "train['AddrSt'] = train['Address'].map(lambda x: 1 if 'ST' in x else 0)\n",
    "train['AddrAv'] = train['Address'].map(lambda x: 1 if 'AV' in x else 0)\n",
    "train['AddrDr'] = train['Address'].map(lambda x: 1 if 'DR' in x else 0)\n",
    "\n",
    "test['AddrSt'] = test['Address'].map(lambda x: 1 if 'ST' in x else 0)\n",
    "test['AddrAv'] = test['Address'].map(lambda x: 1 if 'AV' in x else 0)\n",
    "test['AddrDr'] = test['Address'].map(lambda x: 1 if 'DR' in x else 0)\n"
   ]
  },
  {
   "cell_type": "markdown",
   "metadata": {},
   "source": [
    "## Prediction"
   ]
  },
  {
   "cell_type": "code",
   "execution_count": null,
   "metadata": {
    "collapsed": false
   },
   "outputs": [],
   "source": [
    "from sklearn.cross_validation import cross_val_score\n",
    "\n",
    "feature_names = [\"X\", \"Y\", 'AddrSt', 'AddrAv', 'AddrDr']\n",
    "label_name = \"Category\"\n",
    "\n",
    "train_X = train[feature_names]\n",
    "test_X = test[feature_names]\n",
    "train_y = train[label_name]"
   ]
  },
  {
   "cell_type": "markdown",
   "metadata": {},
   "source": [
    "### Scoring"
   ]
  },
  {
   "cell_type": "code",
   "execution_count": null,
   "metadata": {
    "collapsed": false
   },
   "outputs": [],
   "source": [
    "from sklearn.naive_bayes import GaussianNB, MultinomialNB, BernoulliNB\n",
    "\n",
    "gaussian_score = cross_val_score(GaussianNB(), train_X, train_y, scoring='log_loss', cv=5).mean()\n",
    "bernoulli_score = cross_val_score(BernoulliNB(), train_X, train_y, scoring='log_loss', cv=5).mean()\n",
    "\n",
    "print(\"GaussianNB = {0:.6f}\".format(gaussian_score))\n",
    "# print(\"MultinomialNB = {0:.6f}\".format(multimonial_score))\n",
    "print(\"BernoulliNB = {0:.6f}\".format(bernoulli_score))\n",
    "\n",
    "# baseline\n",
    "# GaussianNB = -3.456489\n",
    "# BernoulliNB = -2.680326"
   ]
  },
  {
   "cell_type": "code",
   "execution_count": null,
   "metadata": {
    "collapsed": true
   },
   "outputs": [],
   "source": []
  }
 ],
 "metadata": {
  "kernelspec": {
   "display_name": "Python 3",
   "language": "python",
   "name": "python3"
  },
  "language_info": {
   "codemirror_mode": {
    "name": "ipython",
    "version": 3
   },
   "file_extension": ".py",
   "mimetype": "text/x-python",
   "name": "python",
   "nbconvert_exporter": "python",
   "pygments_lexer": "ipython3",
   "version": "3.5.2"
  }
 },
 "nbformat": 4,
 "nbformat_minor": 0
}
