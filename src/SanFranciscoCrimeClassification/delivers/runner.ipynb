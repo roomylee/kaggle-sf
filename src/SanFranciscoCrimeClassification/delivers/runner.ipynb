{
 "cells": [
  {
   "cell_type": "markdown",
   "metadata": {},
   "source": [
    "# The State of the Art Script of San Francisco Crime Classification\n",
    "\n",
    "This is a deliverable notebook of [Kaggle](https://www.kaggle.com)'s [San Francisco Crime Classification](https://www.kaggle.com/c/sf-crime). All members who are participating this competition can apply their experiments to this notebook. The submission output should always keep the high score. When you finished to apply new experiment on this notebook, you need to review your codes using [pull request](https://help.github.com/articles/using-pull-requests/).\n",
    "\n",
    "\n",
    "### Overview\n",
    "** Model **\n",
    "  * BernoulliNB. All hyperparameters are default.\n",
    "  \n",
    "** Features **\n",
    "  * X, Y\n",
    "  * Dates (Convert to numerical columns)\n",
    "    * Conver the Dates column to numerical columns named Dates-Year, Dates-Month, Dates-Day, Dates-Hour and Dates-Minute.\n",
    "    * Modify Dates-Minute to zero if the value is equal to 30.\n",
    "    * Use only Dates-Hour and Dates-Minute.\n",
    "\n",
    "\n",
    "### Result\n",
    "  * 5-fold Cross Validation = **2.589878**\n",
    "  * Leaderboard = **2.59008**"
   ]
  },
  {
   "cell_type": "code",
   "execution_count": null,
   "metadata": {
    "collapsed": true
   },
   "outputs": [],
   "source": [
    "import numpy as np\n",
    "import pandas as pd"
   ]
  },
  {
   "cell_type": "markdown",
   "metadata": {},
   "source": [
    "## Load Data"
   ]
  },
  {
   "cell_type": "code",
   "execution_count": null,
   "metadata": {
    "collapsed": false
   },
   "outputs": [],
   "source": [
    "train = pd.read_csv(\"../data/train.csv\")\n",
    "train.head(3)"
   ]
  },
  {
   "cell_type": "code",
   "execution_count": null,
   "metadata": {
    "collapsed": false
   },
   "outputs": [],
   "source": [
    "test = pd.read_csv(\"../data/test.csv\")\n",
    "test.head(3)"
   ]
  },
  {
   "cell_type": "markdown",
   "metadata": {},
   "source": [
    "## Feature Extraction"
   ]
  },
  {
   "cell_type": "markdown",
   "metadata": {},
   "source": [
    "### Merge both the train and the test dataframe"
   ]
  },
  {
   "cell_type": "code",
   "execution_count": null,
   "metadata": {
    "collapsed": false
   },
   "outputs": [],
   "source": [
    "seperator = train.shape[0]\n",
    "\n",
    "train[\"combi-index\"] = [\"train-{0}\".format(index) for index, _ in train.iterrows()]\n",
    "test[\"combi-index\"] = [\"test-{0}\".format(index) for index, _ in test.iterrows()]\n",
    "\n",
    "combi = pd.concat([train, test])\n",
    "combi = combi.set_index(\"combi-index\")\n",
    "\n",
    "combi.head(3)"
   ]
  },
  {
   "cell_type": "markdown",
   "metadata": {},
   "source": [
    "### Convert the 'Dates' column to numerical columns\n"
   ]
  },
  {
   "cell_type": "code",
   "execution_count": null,
   "metadata": {
    "collapsed": false
   },
   "outputs": [],
   "source": [
    "from datetime import datetime\n",
    "\n",
    "total_count = combi.shape[0]\n",
    "count = 0\n",
    "\n",
    "dates_data = []\n",
    "\n",
    "for index, row in combi[\"Dates\"].iteritems():\n",
    "    count = count + 1\n",
    "\n",
    "    if count % 100000 == 0:\n",
    "        print(\"processing... {0}/{1}\".format(count, total_count))\n",
    "\n",
    "    date = datetime.strptime(row, \"%Y-%m-%d %H:%M:%S\")\n",
    "\n",
    "    dates_data.append({\n",
    "        \"combi-index\": index,\n",
    "        \"Dates-Year\": date.year,\n",
    "        \"Dates-Month\": date.month,\n",
    "        \"Dates-Day\": date.day,\n",
    "        \"Dates-Hour\": date.hour,\n",
    "        \"Dates-Minute\": date.minute,\n",
    "        \"Dates-Second\": date.second,\n",
    "    })\n",
    "    \n",
    "dates_dataframe = pd.DataFrame.from_dict(dates_data)\n",
    "dates_dataframe = dates_dataframe.set_index(\"combi-index\")\n",
    "\n",
    "dates_columns = [\"Dates-Year\", \"Dates-Month\", \"Dates-Day\", \"Dates-Hour\", \"Dates-Minute\", \"Dates-Second\"]\n",
    "dates_dataframe = dates_dataframe[dates_columns]\n",
    "\n",
    "# All \"Dates-Second\" variable is equal to zero. Therefore, we can remove it.\n",
    "second_list = dates_dataframe[\"Dates-Second\"].unique()\n",
    "print(\"list of seconds = {0}\".format(second_list))\n",
    "\n",
    "dates_dataframe = dates_dataframe.drop(\"Dates-Second\", axis=1)\n",
    "\n",
    "combi = pd.concat([combi, dates_dataframe], axis=1)\n",
    "\n",
    "combi.head(3)"
   ]
  },
  {
   "cell_type": "markdown",
   "metadata": {},
   "source": [
    "### Modify the **Dates-Minute** to 0 if the value is 30"
   ]
  },
  {
   "cell_type": "code",
   "execution_count": null,
   "metadata": {
    "collapsed": false
   },
   "outputs": [],
   "source": [
    "combi.loc[combi[\"Dates-Minute\"] == 30, \"Dates-Minute\"] = 0\n",
    "print(\"The number of rows which the Date-Minutes is equal to 30 = {0}\".format(combi[combi[\"Dates-Minute\"] == 30].shape[0]))"
   ]
  },
  {
   "cell_type": "markdown",
   "metadata": {},
   "source": [
    "### Split to the train and the test dataframe"
   ]
  },
  {
   "cell_type": "code",
   "execution_count": null,
   "metadata": {
    "collapsed": false
   },
   "outputs": [],
   "source": [
    "train = combi[:seperator]\n",
    "train = train.drop(\"Id\", axis=1)\n",
    "train.head(3)"
   ]
  },
  {
   "cell_type": "code",
   "execution_count": null,
   "metadata": {
    "collapsed": false
   },
   "outputs": [],
   "source": [
    "test = combi[seperator:]\n",
    "test = test.drop([\"Category\", \"Descript\", \"Resolution\"], axis=1)\n",
    "test[\"Id\"] = test[\"Id\"].astype('int32')\n",
    "\n",
    "test = test.set_index([\"Id\"])\n",
    "test.head(3)"
   ]
  },
  {
   "cell_type": "markdown",
   "metadata": {},
   "source": [
    "## Score"
   ]
  },
  {
   "cell_type": "code",
   "execution_count": null,
   "metadata": {
    "collapsed": false
   },
   "outputs": [],
   "source": [
    "from sklearn.cross_validation import cross_val_score\n",
    "\n",
    "feature_names = [\"X\", \"Y\"] + [\"Dates-Hour\", \"Dates-Minute\"]\n",
    "label_name = \"Category\"\n",
    "\n",
    "train_X = train[feature_names]\n",
    "test_X = test[feature_names]\n",
    "\n",
    "train_y = train[label_name]\n",
    "\n",
    "train_X.head(3)"
   ]
  },
  {
   "cell_type": "code",
   "execution_count": null,
   "metadata": {
    "collapsed": false
   },
   "outputs": [],
   "source": [
    "from sklearn.naive_bayes import BernoulliNB\n",
    "\n",
    "model = BernoulliNB()\n",
    "score = cross_val_score(model, train_X, train_y, scoring='log_loss', cv=5).mean()\n",
    "print(\"BernoulliNB = {0:.6f}\".format(-1.0 * score))"
   ]
  },
  {
   "cell_type": "markdown",
   "metadata": {},
   "source": [
    "## Prediction"
   ]
  },
  {
   "cell_type": "code",
   "execution_count": null,
   "metadata": {
    "collapsed": false
   },
   "outputs": [],
   "source": [
    "model = BernoulliNB()\n",
    "model.fit(train_X, train_y)\n",
    "\n",
    "prediction = model.predict_proba(test_X)\n",
    "prediction[0:100]"
   ]
  },
  {
   "cell_type": "markdown",
   "metadata": {},
   "source": [
    "# Submission"
   ]
  },
  {
   "cell_type": "code",
   "execution_count": null,
   "metadata": {
    "collapsed": false
   },
   "outputs": [],
   "source": [
    "sample = pd.read_csv(\"../data/sampleSubmission.csv\", index_col=\"Id\")\n",
    "sample.head(3)"
   ]
  },
  {
   "cell_type": "code",
   "execution_count": null,
   "metadata": {
    "collapsed": false
   },
   "outputs": [],
   "source": [
    "submission = pd.DataFrame(prediction, index=sample.index)\n",
    "submission.columns = sample.columns\n",
    "submission.head()"
   ]
  },
  {
   "cell_type": "code",
   "execution_count": null,
   "metadata": {
    "collapsed": false
   },
   "outputs": [],
   "source": [
    "from datetime import datetime\n",
    "\n",
    "current_time = datetime.now().strftime(\"%Y.%m.%d %H:%M:%S\")\n",
    "description = \"Use the Dates column\"\n",
    "\n",
    "filename = \"../submit/{0} {1}.csv\".format(current_time, description)\n",
    "\n",
    "submission.to_csv(filename)"
   ]
  }
 ],
 "metadata": {
  "kernelspec": {
   "display_name": "Python 3",
   "language": "python",
   "name": "python3"
  },
  "language_info": {
   "codemirror_mode": {
    "name": "ipython",
    "version": 3
   },
   "file_extension": ".py",
   "mimetype": "text/x-python",
   "name": "python",
   "nbconvert_exporter": "python",
   "pygments_lexer": "ipython3",
   "version": "3.5.1"
  }
 },
 "nbformat": 4,
 "nbformat_minor": 0
}
